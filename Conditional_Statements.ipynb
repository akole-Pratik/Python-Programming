{
 "cells": [
  {
   "cell_type": "markdown",
   "id": "8daf3c5d",
   "metadata": {},
   "source": [
    "# Conditional Statements:\n",
    "- In python, Conditional statements are used to determine a specific condition is met by testing wheather a condition ro True    or False.\n",
    "- Conditional statements includes:\n",
    "- if statement\n",
    "- if-else statement\n",
    "- nested if-else\n",
    "- if-elif-else ladder\n"
   ]
  },
  {
   "cell_type": "markdown",
   "id": "53508bf5",
   "metadata": {},
   "source": [
    "# 1. if statement:- execute a statement if condition is true\n",
    "\n",
    "- Syntax\n",
    "\n",
    "- if condition:\n",
    "       statements"
   ]
  },
  {
   "cell_type": "code",
   "execution_count": 50,
   "id": "fef5a3df",
   "metadata": {},
   "outputs": [
    {
     "name": "stdout",
     "output_type": "stream",
     "text": [
      "0\n",
      "10\n"
     ]
    }
   ],
   "source": [
    "n=10\n",
    "x=1\n",
    "if (n%2==0):\n",
    "    x=0\n",
    "    print(x)\n",
    "print(n)"
   ]
  },
  {
   "cell_type": "code",
   "execution_count": 14,
   "id": "be1483d2",
   "metadata": {},
   "outputs": [
    {
     "name": "stdout",
     "output_type": "stream",
     "text": [
      "i is less than 15\n"
     ]
    }
   ],
   "source": [
    "i=10\n",
    "if (i<15):\n",
    "    print('i is less than 15')"
   ]
  },
  {
   "cell_type": "code",
   "execution_count": 13,
   "id": "0ada9bae",
   "metadata": {},
   "outputs": [
    {
     "name": "stdout",
     "output_type": "stream",
     "text": [
      "Enter a integer number:5\n",
      "Absolute value is 5 = 5\n"
     ]
    }
   ],
   "source": [
    "n=int(input('Enter a integer number:'))\n",
    "y=n\n",
    "if (n<0):\n",
    "    x=-x\n",
    "print('Absolute value is',y,'=',n)"
   ]
  },
  {
   "cell_type": "code",
   "execution_count": 23,
   "id": "1506eb79",
   "metadata": {},
   "outputs": [
    {
     "name": "stdout",
     "output_type": "stream",
     "text": [
      "1996 is leap year\n",
      "2000 is leap year\n",
      "2004 is leap year\n",
      "2008 is leap year\n",
      "2012 is leap year\n",
      "2016 is leap year\n",
      "2020 is leap year\n"
     ]
    }
   ],
   "source": [
    "for years in range(1995,2022):\n",
    "    if (years%400==0) or (years%100!=0 and years%4==0):\n",
    "        print(f'{years} is leap year')\n",
    "    \n",
    "    "
   ]
  },
  {
   "cell_type": "markdown",
   "id": "731ff994",
   "metadata": {},
   "source": [
    "# if- else: it will execute when condition is true. if condition is false it will execute else part.\n",
    "- Syntax\n",
    "- if condition:\n",
    "       statements\n",
    "       \n",
    "  else:\n",
    "       statements\n",
    "       "
   ]
  },
  {
   "cell_type": "code",
   "execution_count": 2,
   "id": "13a02a1c",
   "metadata": {},
   "outputs": [
    {
     "name": "stdout",
     "output_type": "stream",
     "text": [
      "Enter a number: 15\n",
      "15 is odd number\n"
     ]
    }
   ],
   "source": [
    "# To find wheather a number is even or odd.\n",
    "n=int(input('Enter a number: '))\n",
    "if n%2==0:\n",
    "    print(f'{n} is even number')\n",
    "else:\n",
    "    print(f'{n} is odd number')"
   ]
  },
  {
   "cell_type": "code",
   "execution_count": 10,
   "id": "bc03a993",
   "metadata": {},
   "outputs": [
    {
     "name": "stdout",
     "output_type": "stream",
     "text": [
      "1 is odd number\n",
      "2 is even number\n",
      "3 is odd number\n",
      "4 is even number\n",
      "5 is odd number\n",
      "6 is even number\n",
      "7 is odd number\n",
      "8 is even number\n",
      "9 is odd number\n",
      "10 is even number\n"
     ]
    }
   ],
   "source": [
    "for i in range(1,11):\n",
    "    if i%2==0:\n",
    "        print(f'{i} is even number')\n",
    "    else:\n",
    "        print(f'{i} is odd number')\n",
    "        "
   ]
  },
  {
   "cell_type": "code",
   "execution_count": 16,
   "id": "df3df64d",
   "metadata": {},
   "outputs": [
    {
     "name": "stdout",
     "output_type": "stream",
     "text": [
      "Enter a year: 2016\n",
      "2016 is leap year\n"
     ]
    }
   ],
   "source": [
    "# To check input year is leap year or not\n",
    "year=int(input('Enter a year: '))\n",
    "if (year%400==0) or (year%100!=0 and year%4==0):\n",
    "    print(f'{year} is leap year')\n",
    "else:\n",
    "    print(f'{year} is not leap year')"
   ]
  },
  {
   "cell_type": "markdown",
   "id": "223f4248",
   "metadata": {},
   "source": [
    "# Nested if-else\n",
    "- Syntax\n",
    "- if condition:\n",
    "       if condition:\n",
    "            statements\n",
    "       else:\n",
    "            statements\n",
    "  else: \n",
    "      statements"
   ]
  },
  {
   "cell_type": "code",
   "execution_count": 41,
   "id": "f24a557c",
   "metadata": {},
   "outputs": [
    {
     "name": "stdout",
     "output_type": "stream",
     "text": [
      "Enter a number: 12\n",
      "12 is even number\n"
     ]
    }
   ],
   "source": [
    "n=int(input(\"Enter a number: \"))\n",
    "if n>0:\n",
    "    if n%2==0:\n",
    "         print(f'{n} is even number')\n",
    "    else:\n",
    "        print(f'{n} is odd number')\n",
    "        \n",
    "else:\n",
    "    print('Please enter a number greater than 0')\n",
    "        "
   ]
  },
  {
   "cell_type": "code",
   "execution_count": 49,
   "id": "03097b49",
   "metadata": {},
   "outputs": [
    {
     "name": "stdout",
     "output_type": "stream",
     "text": [
      "1 is odd number\n",
      "2 is even number\n",
      "3 is odd number\n",
      "4 is even number\n",
      "5 is odd number\n",
      "6 is even number\n",
      "7 is odd number\n",
      "8 is even number\n",
      "9 is odd number\n",
      "10 is even number\n"
     ]
    }
   ],
   "source": [
    "for i in range(1,11):\n",
    "    \n",
    "    if i>0:\n",
    "    \n",
    "        if i%2==0:\n",
    "            print(f'{i} is even number')\n",
    "        else:\n",
    "            print(f'{i} is odd number')\n",
    "        \n",
    "    else:\n",
    "        print('Please enter a number greater than 0')"
   ]
  },
  {
   "cell_type": "code",
   "execution_count": 39,
   "id": "b66c6557",
   "metadata": {},
   "outputs": [
    {
     "name": "stdout",
     "output_type": "stream",
     "text": [
      "10 is even number\n",
      "12 is even number\n",
      "15 is odd number\n",
      "18 is even number\n",
      "24 is even number\n",
      "25 is odd number\n",
      "29 is odd number\n",
      "30 is even number\n",
      "35 is odd number\n",
      "40 is even number\n",
      "Please enter a number greater than 0\n"
     ]
    }
   ],
   "source": [
    "l=[10,12,15,18,24,25,29,30,35,40]\n",
    "for i in l:\n",
    "    \n",
    "    if i>0:\n",
    "        if i%2==0:\n",
    "            print(f'{i} is even number')\n",
    "        else:\n",
    "            print(f'{i} is odd number')\n",
    "        \n",
    "else:\n",
    "    print('Please enter a number greater than 0')"
   ]
  },
  {
   "cell_type": "markdown",
   "id": "9d45971b",
   "metadata": {},
   "source": [
    "# if-elif-else Ladder: \n",
    "- Syntax\n",
    "- if condition:\n",
    "       statements\n",
    "  elif (Condition2):\n",
    "       statements\n",
    "  elif (Condition3):\n",
    "       statements\n",
    "   .\n",
    "   .\n",
    "   .\n",
    "   .\n",
    "   \n",
    "   else:\n",
    "       statement"
   ]
  },
  {
   "cell_type": "code",
   "execution_count": 54,
   "id": "15c83f6f",
   "metadata": {},
   "outputs": [
    {
     "name": "stdout",
     "output_type": "stream",
     "text": [
      "Enter marks of subject1: 32\n",
      "Enter marks of subject2: 32\n",
      "Enter marks of subject3: 35\n",
      "Total marks: 99\n",
      "Percentage: 33.0\n",
      "Fail\n"
     ]
    }
   ],
   "source": [
    "m1=int(input('Enter marks of subject1: '))\n",
    "m2=int(input('Enter marks of subject2: '))\n",
    "m3=int(input('Enter marks of subject3: '))\n",
    "total=m1+m1+m3\n",
    "avg=total/3\n",
    "print('Total marks:',total)\n",
    "print('Percentage:',avg)\n",
    "\n",
    "if avg>=75:\n",
    "    print('Distinction')\n",
    "elif avg>=60 and avg<75:\n",
    "    print('First Class')\n",
    "elif avg>=45 and avg<60:\n",
    "    print('Second Class')\n",
    "elif avg>=40 and avg<45:\n",
    "    print('Pass')\n",
    "else:\n",
    "    print('Fail')"
   ]
  },
  {
   "cell_type": "markdown",
   "id": "65ce8568",
   "metadata": {},
   "source": [
    "# Another Programs"
   ]
  },
  {
   "cell_type": "code",
   "execution_count": 64,
   "id": "80af8d28",
   "metadata": {},
   "outputs": [
    {
     "name": "stdout",
     "output_type": "stream",
     "text": [
      "Enter a number: 0\n",
      "0 is zero no\n"
     ]
    }
   ],
   "source": [
    "# Write a program to check user entered number is negative ,positive or zero\n",
    "\n",
    "n=int(input(\"Enter a number: \"))\n",
    "if n<0:\n",
    "    print(f'{n} is negative no')\n",
    "elif n>0: \n",
    "    print(f'{n} is positive no')\n",
    "elif n==0: \n",
    "    print(f'{n} is zero no')"
   ]
  },
  {
   "cell_type": "code",
   "execution_count": 68,
   "id": "0680325f",
   "metadata": {},
   "outputs": [
    {
     "name": "stdout",
     "output_type": "stream",
     "text": [
      "Enter a number: 42\n",
      "42 is divisible by 3 and 7\n"
     ]
    }
   ],
   "source": [
    "# Write a program to check user entered number is divisible by 3 and 7 or not.\n",
    "n=int(input(\"Enter a number: \"))\n",
    "if (n%3==0) and (n%7==0):\n",
    "    print(f'{n} is divisible by 3 and 7')\n",
    "\n",
    "else:\n",
    "    print(f'{n} is not divisible by 3 and 7')\n",
    "\n"
   ]
  },
  {
   "cell_type": "code",
   "execution_count": 72,
   "id": "0221cf38",
   "metadata": {},
   "outputs": [
    {
     "name": "stdout",
     "output_type": "stream",
     "text": [
      "Enter a character: u\n",
      "u is a Vowel\n"
     ]
    }
   ],
   "source": [
    "# taking user input\n",
    "ch = input(\"Enter a character: \")\n",
    "\n",
    "if(ch=='A' or ch=='a' or ch=='E' or ch =='e' or ch=='I'\n",
    " or ch=='i' or ch=='O' or ch=='o' or ch=='U' or ch=='u'):\n",
    "    print(ch, \"is a Vowel\")\n",
    "else:\n",
    "    print(ch, \"is a Consonant\")"
   ]
  },
  {
   "cell_type": "code",
   "execution_count": 74,
   "id": "481de04c",
   "metadata": {},
   "outputs": [
    {
     "name": "stdout",
     "output_type": "stream",
     "text": [
      "Enter your height:5.5\n",
      "Enter your weight:52\n",
      "underweight\n"
     ]
    }
   ],
   "source": [
    "# Write a program to calculate BMI and validate ideal weight for person if person is  overweight or underweight\n",
    "\n",
    "# Conditions to find out BMI category\n",
    "height=float(input('Enter your height:'))\n",
    "weight=float(input('Enter your weight:'))\n",
    "bmi = weight/(height**2)\n",
    "if (bmi < 18.5):\n",
    "    print(\"underweight\")\n",
    " \n",
    "elif ( bmi >= 18.5 and bmi < 24.9):\n",
    "    print(\"Healthy\")\n",
    " \n",
    "elif ( bmi >= 24.9 and bmi < 30):\n",
    "    print(\"overweight\")\n",
    " \n",
    "elif ( bmi >=30):\n",
    "    print(\"Suffering from Obesity\")"
   ]
  },
  {
   "cell_type": "code",
   "execution_count": null,
   "id": "6831676e",
   "metadata": {},
   "outputs": [],
   "source": []
  }
 ],
 "metadata": {
  "kernelspec": {
   "display_name": "Python 3",
   "language": "python",
   "name": "python3"
  },
  "language_info": {
   "codemirror_mode": {
    "name": "ipython",
    "version": 3
   },
   "file_extension": ".py",
   "mimetype": "text/x-python",
   "name": "python",
   "nbconvert_exporter": "python",
   "pygments_lexer": "ipython3",
   "version": "3.8.8"
  }
 },
 "nbformat": 4,
 "nbformat_minor": 5
}
